{
 "cells": [
  {
   "cell_type": "markdown",
   "metadata": {},
   "source": [
    "# Web Programming for Data Scientists\n",
    "\n",
    "This tutorial is meant to introduce data scientists, analysts, statisticians and academic programmers to useful concepts in web programming. We'll cover a bit about how the internet works, then go into depth on how to retrieve datasets over the web, how to build fast crawlers and scrapers for extracting structured information from large numbers of web sites, how to use web APIs, and how to build simple simple web servers for hosting dashhboards or exposing your models to data consumers.\n",
    "\n",
    "## Assumptions\n",
    "### The Reader\n",
    "We assume that the reader is already familiar with concepts in statistics and statistical programming, as well as the Python libraries numpy, scipy, and pandas.\n",
    "\n",
    "### Programming Environment\n",
    "This tutorial is written for users running Python 2.7, with the following packages installed:\n",
    "- Scipy\n",
    "- Numpy\n",
    "- Pandas\n",
    "- Scikit-Learn\n",
    "- Beautiful Soup\n",
    "\n",
    "If you are missing any of these packages, you can get them via pip at the command line:\n",
    "\n",
    "```\n",
    "pip install numpy scipy pandas scikit-learn beautifulsoup4\n",
    "```\n",
    "\n",
    "Let's get started!\n",
    "\n",
    "## 1. Fetching your First Web Page"
   ]
  },
  {
   "cell_type": "code",
   "execution_count": 34,
   "metadata": {
    "collapsed": false
   },
   "outputs": [
    {
     "name": "stdout",
     "output_type": "stream",
     "text": [
      "<html>\n",
      " <head>\n",
      "  <title>\n",
      "   Contact the Sound Lab\n",
      "  </title>\n",
      " </head>\n",
      " <body>\n",
      "  <center>\n",
      "   <h2>\n",
      "    Email:\n",
      "    <br/>\n",
      "    SoundLab @ ling.northwestern.edu\n",
      "   </h2>\n",
      "   <p>\n",
      "    Phone:\n",
      "    <br/>\n",
      "    (847) 491 - 6691\n",
      "   </p>\n",
      "   <p>\n",
      "   </p>\n",
      "  </center>\n",
      " </body>\n",
      "</html>\n",
      "\n"
     ]
    }
   ],
   "source": [
    "import urllib2\n",
    "import bs4\n",
    "\n",
    "request = urllib2.Request(\"http://groups.linguistics.northwestern.edu/soundlab/contact.html\")\n",
    "response = urllib2.urlopen(request)\n",
    "html = response.read()\n",
    "soup = bs4.BeautifulSoup(html)\n",
    "print soup.prettify()"
   ]
  },
  {
   "cell_type": "markdown",
   "metadata": {},
   "source": [
    "### So, what did you just do?\n",
    "1. Create an HTTP request, send it off over the internet, and receive an HTTP response.\n",
    "2. Print out the response's HTTP headers.\n",
    "3. Read the response body.\n",
    "4. Parse the html in the repsonse body into a structured Python object.\n",
    "5. Print out a niecely formatted representation of that html.\n",
    "\n",
    "We go through that in more detail below. If you don't care about the plumbing and just want to get things done, you can skip ahead to section 2.\n",
    "\n",
    "### HTTP Requests and Responses\n",
    "HTTP, or Hyper-Text Transfer Protocol, is one of the main protocols that computers use to talk to each other over the internet. An HTTP request is just a bit of text that a *client* computer sends to a *server* to tell it something, typically that it wants some piece of information, like a web page.\n",
    "\n",
    "An HTTP response is the text that the server sends back to the client.\n",
    "\n",
    "Both requests and responses have similar structure. Everything up to the first newline (actually a carriage return + newline) is the *request line* (in a request) or the *status line* (in a response). This is followed by any number of *headers*, each terminated by a newline + carriage return. The last header is terminated by a double newline + carriage return, and everything else is the message body. \n",
    "\n",
    "Let's send the request again, this time logging a bit of extra information to see some more detail. The text of the request will be printed out after \"`send: `\"."
   ]
  },
  {
   "cell_type": "code",
   "execution_count": 33,
   "metadata": {
    "collapsed": false
   },
   "outputs": [
    {
     "name": "stdout",
     "output_type": "stream",
     "text": [
      "send: 'GET /soundlab/contact.html HTTP/1.1\\r\\nAccept-Encoding: identity\\r\\nHost: groups.linguistics.northwestern.edu\\r\\nConnection: close\\r\\nUser-Agent: Python-urllib/2.7\\r\\n\\r\\n'\n",
      "reply: 'HTTP/1.1 200 OK\\r\\n'\n",
      "header: Date: Fri, 11 Dec 2015 18:21:30 GMT\n",
      "header: Server: Apache/2.2.3 (Red Hat)\n",
      "header: Accept-Ranges: bytes\n",
      "header: Content-Length: 183\n",
      "header: Content-Type: text/html\n",
      "header: X-Cache: MISS from m00180A86462C\n",
      "header: X-Cache-Lookup: MISS from m00180A86462C:3128\n",
      "header: Via: 1.1 m00180A86462C (squid/3.3.5)\n",
      "header: Connection: close\n"
     ]
    },
    {
     "data": {
      "text/plain": [
       "'<html>\\n<head>\\n<title>\\nContact the Sound Lab\\n</title>\\n<head>\\n<body>\\n<center>\\n<h2>\\nEmail:<br>\\nSoundLab @ ling.northwestern.edu<p>\\n\\nPhone:<br>\\n(847) 491 - 6691<p>\\n</h2>\\n</body>\\n</html>\\n\\n'"
      ]
     },
     "execution_count": 33,
     "metadata": {},
     "output_type": "execute_result"
    }
   ],
   "source": [
    "opener = urllib2.build_opener(urllib2.HTTPHandler(debuglevel=1))\n",
    "opener.open(request).read()"
   ]
  },
  {
   "cell_type": "markdown",
   "metadata": {},
   "source": [
    "#### Anatomy of a Request\n",
    "The request should look something like this:\n",
    "```\n",
    "GET /soundlab/contact.html HTTP/1.1\n",
    "Accept-Encoding: identity\n",
    "Host: groups.linguistics.northwestern.edu\n",
    "Connection: close\n",
    "User-Agent: Python-urllib/2.7\n",
    "```\n",
    "\n",
    "This request has the required request line, four headers, and no body.\n",
    "\n",
    "##### Request Line\n",
    "The first bit request line tells us that it's a `GET` request, which means the client is asking for information. Most of thetime, you'll be sending GET requests. You'll also sometimes use a `POST` request, typically used when the client is providing new information to a server. There are other request types which you'll rarely have to interact with as a data scientist.\n",
    "\n",
    "The second bit of the request line is the URI, universal resource indicator. Semantically, the URI originally indicated the location of a file on the host computer. These days things are much more dynamic and URIs are basically arbitrary, but we still generally structure them like file paths.\n",
    "\n",
    "The last element of the request line specifies the version of the HTTP protocol being used.\n",
    "\n",
    "##### Request Headers\n",
    "Next come several headers. The HTTP spec defines a lot of them, most of which are not required. You can also add more headers yourself; custom headers must start with \"X-\", and will probably be ignored by the server. Here's what the headers in our example mean:\n",
    "- `\"Accept-Endcodeing: identity\"` - The text encoding of the response is expected to be the same as that used in the request.\n",
    "- `\"Host: groups.linguistics.northwestern.edu\"` - You can find the IP address of the server we want to talk to by looking up \"groups.linguistics.northwestern.edu\" on a nameserver.\n",
    "- `\"Connection: close\"` - After the server sends its reply, consider the communication over.\n",
    "- `\"User-Agent: Python-urllib/2.7\"` The system that sent the request is the Python library urllib.\n",
    "\n",
    "`User-Agent` might be the most interesting of these headers. It's purpose is to identify some general information about the client. When browsing web sites in Chrome, Firefox, Safari, or whatever, the user agent typically indicates which web browser and operating system is being used. For instance, by user agent right now is `Mozilla/5.0 (Macintosh; Intel Mac OS X 10_10_3) AppleWebKit/537.36 (KHTML, like Gecko) Chrome/46.0.2490.86 Safari/537.36`. This lets servers know a little bit about the client that is talking to them; in my case, that I'm running Chrome 46 on an Intel Mac.\n",
    "\n",
    "A very, very important thing to remember about user agents is that **THEY ARE COMPLETELY UNRELIABLE**. Anyone can set their user agent to be whatever they want. For instance, let's pretend that we're sending a request as me using my browser, rather than as a Python script:"
   ]
  },
  {
   "cell_type": "code",
   "execution_count": 38,
   "metadata": {
    "collapsed": false
   },
   "outputs": [
    {
     "name": "stdout",
     "output_type": "stream",
     "text": [
      "send: 'GET /soundlab/contact.html HTTP/1.1\\r\\nAccept-Encoding: identity\\r\\nHost: groups.linguistics.northwestern.edu\\r\\nConnection: close\\r\\nUser-Agent: Mozilla/5.0 (Macintosh; Intel Mac OS X 10_10_3) AppleWebKit/537.36 (KHTML, like Gecko) Chrome/46.0.2490.86 Safari/537.36\\r\\n\\r\\n'\n",
      "reply: 'HTTP/1.1 200 OK\\r\\n'\n",
      "header: Date: Fri, 11 Dec 2015 19:03:55 GMT\n",
      "header: Server: Apache/2.2.3 (Red Hat)\n",
      "header: Accept-Ranges: bytes\n",
      "header: Content-Length: 183\n",
      "header: Content-Type: text/html\n",
      "header: X-Cache: MISS from m00180A86462C\n",
      "header: X-Cache-Lookup: MISS from m00180A86462C:3128\n",
      "header: Via: 1.1 m00180A86462C (squid/3.3.5)\n",
      "header: Connection: close\n"
     ]
    },
    {
     "data": {
      "text/plain": [
       "'<html>\\n<head>\\n<title>\\nContact the Sound Lab\\n</title>\\n<head>\\n<body>\\n<center>\\n<h2>\\nEmail:<br>\\nSoundLab @ ling.northwestern.edu<p>\\n\\nPhone:<br>\\n(847) 491 - 6691<p>\\n</h2>\\n</body>\\n</html>\\n\\n'"
      ]
     },
     "execution_count": 38,
     "metadata": {},
     "output_type": "execute_result"
    }
   ],
   "source": [
    "fake_ua_request = urllib2.Request(\n",
    "    \"http://groups.linguistics.northwestern.edu/soundlab/contact.html\",\n",
    "    headers={\"User-Agent\": (\"Mozilla/5.0 (Macintosh; Intel Mac OS X 10_10_3) \"\n",
    "                            \"AppleWebKit/537.36 (KHTML, like Gecko) \"\n",
    "                            \"Chrome/46.0.2490.86 Safari/537.36\")})\n",
    "opener.open(fake_ua_request).read()"
   ]
  },
  {
   "cell_type": "markdown",
   "metadata": {},
   "source": [
    "See the difference?\n",
    "\n",
    "Because some servers respond differently to different browsers, or mobile versus desktop clients, user agent spoofing can come in handy.\n",
    "\n",
    "##### Request Body\n",
    "`GET` requests don't have a body. Let's send a `POST` request to see what a body looks like. When using Python's urllib2, the only thing you need to do to turn a `GET` request into a `POST` is to pass in a `body` argument."
   ]
  },
  {
   "cell_type": "code",
   "execution_count": 43,
   "metadata": {
    "collapsed": false
   },
   "outputs": [
    {
     "name": "stdout",
     "output_type": "stream",
     "text": [
      "send: 'POST /soundlab/contact.html HTTP/1.1\\r\\nAccept-Encoding: identity\\r\\nContent-Length: 10\\r\\nHost: groups.linguistics.northwestern.edu\\r\\nContent-Type: application/x-www-form-urlencoded\\r\\nConnection: close\\r\\nUser-Agent: Python-urllib/2.7\\r\\n\\r\\nFoobarabaz'\n",
      "reply: 'HTTP/1.1 200 OK\\r\\n'\n",
      "header: Date: Fri, 11 Dec 2015 19:09:57 GMT\n",
      "header: Server: Apache/2.2.3 (Red Hat)\n",
      "header: Accept-Ranges: bytes\n",
      "header: Content-Length: 183\n",
      "header: Content-Type: text/html\n",
      "header: X-Cache: MISS from m00180A86462C\n",
      "header: X-Cache-Lookup: MISS from m00180A86462C:3128\n",
      "header: Via: 1.1 m00180A86462C (squid/3.3.5)\n",
      "header: Connection: close\n"
     ]
    },
    {
     "data": {
      "text/plain": [
       "'<html>\\n<head>\\n<title>\\nContact the Sound Lab\\n</title>\\n<head>\\n<body>\\n<center>\\n<h2>\\nEmail:<br>\\nSoundLab @ ling.northwestern.edu<p>\\n\\nPhone:<br>\\n(847) 491 - 6691<p>\\n</h2>\\n</body>\\n</html>\\n\\n'"
      ]
     },
     "execution_count": 43,
     "metadata": {},
     "output_type": "execute_result"
    }
   ],
   "source": [
    "post_request = urllib2.Request(\n",
    "    \"http://groups.linguistics.northwestern.edu/soundlab/contact.html\",\n",
    "    data=\"Foobarabaz\")\n",
    "opener.open(post_request).read()"
   ]
  },
  {
   "cell_type": "markdown",
   "metadata": {},
   "source": [
    "Notice that \"Foobarbaz\" appears at the end of our request, after that double carriage return + newline.\n",
    "\n",
    "The page we requested ignored the body and interepreted the GET and POST requests identically. This isn't always the case. Many URLs will respond only to one type of request, and might do something with the body you pass in, like turn it into a new posting on a message board.\n",
    "\n",
    "<a href=\"http://www.w3.org/Protocols/rfc2616/rfc2616-sec5.html#sec5\">You can find the full HTTP/1.1 Request spec here</a>.\n",
    "\n",
    "#### Anatomy of a Response\n",
    "You can see that the responses we've been getting back are structured similarly to our requests. They look something like this:\n",
    "```\n",
    "HTTP/1.1 200 OK\\r\\n\n",
    "Date: Fri, 11 Dec 2015 19:09:57 GMT\n",
    "Server: Apache/2.2.3 (Red Hat)\n",
    "Accept-Ranges: bytes\n",
    "Content-Length: 183\n",
    "Content-Type: text/html\n",
    "X-Cache: MISS from m00180A86462C\n",
    "X-Cache-Lookup: MISS from m00180A86462C:3128\n",
    "Via: 1.1 m00180A86462C (squid/3.3.5)\n",
    "Connection: close\n",
    "\n",
    "<html>\\n<head>\\n<title>\\nContact the Sound Lab\\n</title>\\n<head>\\n<body>\\n<center>\\n<h2>\\nEmail:<br>\\nSoundLab @ ling.northwestern.edu<p>\\n\\nPhone:<br>\\n(847) 491 - 6691<p>\\n</h2>\\n</body>\\n</html>\\n\\n\n",
    "```\n",
    "\n",
    "##### Response Line\n",
    "The response line includes the version of the HTTP protocol being used, just like the request, and a *status code*. The status code indicates what the server did with your request. You can access it directly on the response object:"
   ]
  },
  {
   "cell_type": "code",
   "execution_count": 49,
   "metadata": {
    "collapsed": false
   },
   "outputs": [
    {
     "data": {
      "text/plain": [
       "200"
      ]
     },
     "execution_count": 49,
     "metadata": {},
     "output_type": "execute_result"
    }
   ],
   "source": [
    "response.code"
   ]
  },
  {
   "cell_type": "markdown",
   "metadata": {},
   "source": [
    "200 OK is what you want to see! It means everything worked fine. The <a href=\"http://www.w3.org/Protocols/rfc2616/rfc2616-sec6.html\">HTTP/1.1 Response spec</a> lists all possible status codes.\n",
    "\n",
    "##### Respose Headers\n",
    "Response headers have the same formt as request headers but contain different information. Some are easy to interepret, like \"Date\", or the same as their request counterparts, like \"Connection\". You can see some example of non-standard headers.\n",
    "\n",
    "Response headers won't often be terribly "
   ]
  },
  {
   "cell_type": "code",
   "execution_count": null,
   "metadata": {
    "collapsed": true
   },
   "outputs": [],
   "source": []
  }
 ],
 "metadata": {
  "kernelspec": {
   "display_name": "Python 2",
   "language": "python",
   "name": "python2"
  },
  "language_info": {
   "codemirror_mode": {
    "name": "ipython",
    "version": 2
   },
   "file_extension": ".py",
   "mimetype": "text/x-python",
   "name": "python",
   "nbconvert_exporter": "python",
   "pygments_lexer": "ipython2",
   "version": "2.7.10"
  }
 },
 "nbformat": 4,
 "nbformat_minor": 0
}
